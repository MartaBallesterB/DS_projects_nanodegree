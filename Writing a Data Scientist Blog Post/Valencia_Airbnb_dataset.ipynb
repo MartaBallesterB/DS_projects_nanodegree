{
 "cells": [
  {
   "cell_type": "markdown",
   "id": "4bdb4a94",
   "metadata": {},
   "source": [
    "# <font color='#A533FF'>Module 1: Business Understanding</font>"
   ]
  },
  {
   "cell_type": "markdown",
   "id": "783543e1",
   "metadata": {},
   "source": [
    "AirBnB is an online-platform dedicated to the offer of accommodation to individuals and tourists (vacation rentals) through which hosts can advertise and contract the rental of their properties with their guests. For this project we will explore and analyze the AirBnB data of Valencia (Spain), a city on the shores of the Mediterranean Sea.\n",
    "\n",
    "\n",
    "#### Project Structure:\n",
    "\n",
    "The project follow the CRISP-DM Process (Cross Industry Process for Data Mining):\n",
    "\n",
    "1. Business Understanding.\n",
    "2. Data Understanding.\n",
    "3. Data Preparation.\n",
    "4. Data Modelling.\n",
    "5. Result Evaluation.\n",
    "6. Deployment (available on GitHub repository and Medium Blog Post only).\n",
    "\n",
    "\n",
    "\n",
    "#### Questions:\n",
    "\n",
    "\n",
    "\n",
    "- A. What are the busiest times of the year to visit Valencia? By how much do prices spike?\n",
    "\n",
    "- B. What type of airbnb is the most booked in the city? Where are they in the city?\n",
    "\n",
    "- C. How well can we predict the Airbnb price? What aspects correlate well to the price?"
   ]
  },
  {
   "cell_type": "markdown",
   "id": "a15eba9e",
   "metadata": {},
   "source": [
    "# <font color='#A533FF'>Module 2: Data Understanding</font>"
   ]
  },
  {
   "cell_type": "markdown",
   "id": "8b4e465c",
   "metadata": {},
   "source": [
    "I choose the following datasets, available on http://insideairbnb.com/get-the-data/, to answer the above questions:\n",
    "\n",
    "- calendar.csv: Contains information about [...].\n",
    "\n",
    "- listings.csv: Contains information about [...].\n",
    "\n",
    "** DESCRIBIR VARIABLES E INFO CONTENIDA EN ESOS DATASETS\n",
    "\n"
   ]
  },
  {
   "cell_type": "markdown",
   "id": "3aadbdb1",
   "metadata": {},
   "source": [
    "### Importing libraries and loading the data"
   ]
  },
  {
   "cell_type": "code",
   "execution_count": 5,
   "id": "48474978",
   "metadata": {},
   "outputs": [],
   "source": [
    "import pandas as pd\n",
    "import numpy as np\n",
    "import seaborn as sns\n",
    "import matplotlib.pyplot as plt"
   ]
  },
  {
   "cell_type": "code",
   "execution_count": 6,
   "id": "f1d35150",
   "metadata": {},
   "outputs": [],
   "source": [
    "calendar = pd.read_csv(\"calendar_2021.csv\")\n",
    "listings = pd.read_csv(\"listings.csv\")"
   ]
  },
  {
   "cell_type": "markdown",
   "id": "647616e6",
   "metadata": {},
   "source": [
    "### Exploring 'calendar' dataset "
   ]
  },
  {
   "cell_type": "code",
   "execution_count": 7,
   "id": "414dfb5d",
   "metadata": {},
   "outputs": [
    {
     "data": {
      "text/html": [
       "<div>\n",
       "<style scoped>\n",
       "    .dataframe tbody tr th:only-of-type {\n",
       "        vertical-align: middle;\n",
       "    }\n",
       "\n",
       "    .dataframe tbody tr th {\n",
       "        vertical-align: top;\n",
       "    }\n",
       "\n",
       "    .dataframe thead th {\n",
       "        text-align: right;\n",
       "    }\n",
       "</style>\n",
       "<table border=\"1\" class=\"dataframe\">\n",
       "  <thead>\n",
       "    <tr style=\"text-align: right;\">\n",
       "      <th></th>\n",
       "      <th>listing_id</th>\n",
       "      <th>date</th>\n",
       "      <th>available</th>\n",
       "      <th>price</th>\n",
       "      <th>adjusted_price</th>\n",
       "      <th>minimum_nights</th>\n",
       "      <th>maximum_nights</th>\n",
       "    </tr>\n",
       "  </thead>\n",
       "  <tbody>\n",
       "    <tr>\n",
       "      <th>0</th>\n",
       "      <td>193326</td>\n",
       "      <td>2021-06-28</td>\n",
       "      <td>t</td>\n",
       "      <td>$45.00</td>\n",
       "      <td>$45.00</td>\n",
       "      <td>1.0</td>\n",
       "      <td>1125.0</td>\n",
       "    </tr>\n",
       "    <tr>\n",
       "      <th>1</th>\n",
       "      <td>48154</td>\n",
       "      <td>2021-06-28</td>\n",
       "      <td>f</td>\n",
       "      <td>$45.00</td>\n",
       "      <td>$45.00</td>\n",
       "      <td>3.0</td>\n",
       "      <td>25.0</td>\n",
       "    </tr>\n",
       "    <tr>\n",
       "      <th>2</th>\n",
       "      <td>48154</td>\n",
       "      <td>2021-06-29</td>\n",
       "      <td>f</td>\n",
       "      <td>$45.00</td>\n",
       "      <td>$45.00</td>\n",
       "      <td>3.0</td>\n",
       "      <td>25.0</td>\n",
       "    </tr>\n",
       "    <tr>\n",
       "      <th>3</th>\n",
       "      <td>48154</td>\n",
       "      <td>2021-06-30</td>\n",
       "      <td>f</td>\n",
       "      <td>$45.00</td>\n",
       "      <td>$45.00</td>\n",
       "      <td>3.0</td>\n",
       "      <td>25.0</td>\n",
       "    </tr>\n",
       "    <tr>\n",
       "      <th>4</th>\n",
       "      <td>48154</td>\n",
       "      <td>2021-07-01</td>\n",
       "      <td>f</td>\n",
       "      <td>$45.00</td>\n",
       "      <td>$45.00</td>\n",
       "      <td>3.0</td>\n",
       "      <td>25.0</td>\n",
       "    </tr>\n",
       "  </tbody>\n",
       "</table>\n",
       "</div>"
      ],
      "text/plain": [
       "   listing_id        date available   price adjusted_price  minimum_nights  \\\n",
       "0      193326  2021-06-28         t  $45.00         $45.00             1.0   \n",
       "1       48154  2021-06-28         f  $45.00         $45.00             3.0   \n",
       "2       48154  2021-06-29         f  $45.00         $45.00             3.0   \n",
       "3       48154  2021-06-30         f  $45.00         $45.00             3.0   \n",
       "4       48154  2021-07-01         f  $45.00         $45.00             3.0   \n",
       "\n",
       "   maximum_nights  \n",
       "0          1125.0  \n",
       "1            25.0  \n",
       "2            25.0  \n",
       "3            25.0  \n",
       "4            25.0  "
      ]
     },
     "execution_count": 7,
     "metadata": {},
     "output_type": "execute_result"
    }
   ],
   "source": [
    "calendar.head()"
   ]
  },
  {
   "cell_type": "code",
   "execution_count": 8,
   "id": "5564bd42",
   "metadata": {},
   "outputs": [
    {
     "name": "stdout",
     "output_type": "stream",
     "text": [
      "(1981222, 7)\n",
      "listing_id           0\n",
      "date                 0\n",
      "available            0\n",
      "price             1114\n",
      "adjusted_price    1114\n",
      "minimum_nights      25\n",
      "maximum_nights      25\n",
      "dtype: int64\n"
     ]
    }
   ],
   "source": [
    "# Finding NaN values for calendar df\n",
    "print(calendar.shape)\n",
    "print(calendar.isnull().sum())"
   ]
  },
  {
   "cell_type": "code",
   "execution_count": 9,
   "id": "0c231e17",
   "metadata": {},
   "outputs": [
    {
     "data": {
      "text/plain": [
       "listing_id          int64\n",
       "date               object\n",
       "available          object\n",
       "price              object\n",
       "adjusted_price     object\n",
       "minimum_nights    float64\n",
       "maximum_nights    float64\n",
       "dtype: object"
      ]
     },
     "execution_count": 9,
     "metadata": {},
     "output_type": "execute_result"
    }
   ],
   "source": [
    "calendar.dtypes"
   ]
  },
  {
   "cell_type": "markdown",
   "id": "bc54b2a2",
   "metadata": {},
   "source": [
    "We see that 'price' and 'adjusted_price' are shown as type object. It is needed to transform them to numeric as well as remove the dollar symbol in order to achieve it."
   ]
  },
  {
   "cell_type": "code",
   "execution_count": 10,
   "id": "f002cfc0",
   "metadata": {},
   "outputs": [],
   "source": [
    "# calendar[\"price\"] = calendar[]"
   ]
  },
  {
   "cell_type": "code",
   "execution_count": 11,
   "id": "4f532184",
   "metadata": {},
   "outputs": [
    {
     "data": {
      "text/html": [
       "<div>\n",
       "<style scoped>\n",
       "    .dataframe tbody tr th:only-of-type {\n",
       "        vertical-align: middle;\n",
       "    }\n",
       "\n",
       "    .dataframe tbody tr th {\n",
       "        vertical-align: top;\n",
       "    }\n",
       "\n",
       "    .dataframe thead th {\n",
       "        text-align: right;\n",
       "    }\n",
       "</style>\n",
       "<table border=\"1\" class=\"dataframe\">\n",
       "  <thead>\n",
       "    <tr style=\"text-align: right;\">\n",
       "      <th></th>\n",
       "      <th>listing_id</th>\n",
       "      <th>minimum_nights</th>\n",
       "      <th>maximum_nights</th>\n",
       "    </tr>\n",
       "  </thead>\n",
       "  <tbody>\n",
       "    <tr>\n",
       "      <th>count</th>\n",
       "      <td>1.981222e+06</td>\n",
       "      <td>1.981197e+06</td>\n",
       "      <td>1.981197e+06</td>\n",
       "    </tr>\n",
       "    <tr>\n",
       "      <th>mean</th>\n",
       "      <td>2.947478e+07</td>\n",
       "      <td>5.459868e+00</td>\n",
       "      <td>8.606587e+02</td>\n",
       "    </tr>\n",
       "    <tr>\n",
       "      <th>std</th>\n",
       "      <td>1.442925e+07</td>\n",
       "      <td>1.708297e+01</td>\n",
       "      <td>4.628115e+02</td>\n",
       "    </tr>\n",
       "    <tr>\n",
       "      <th>min</th>\n",
       "      <td>4.815400e+04</td>\n",
       "      <td>1.000000e+00</td>\n",
       "      <td>1.000000e+00</td>\n",
       "    </tr>\n",
       "    <tr>\n",
       "      <th>25%</th>\n",
       "      <td>1.808551e+07</td>\n",
       "      <td>2.000000e+00</td>\n",
       "      <td>3.650000e+02</td>\n",
       "    </tr>\n",
       "    <tr>\n",
       "      <th>50%</th>\n",
       "      <td>2.988804e+07</td>\n",
       "      <td>2.000000e+00</td>\n",
       "      <td>1.125000e+03</td>\n",
       "    </tr>\n",
       "    <tr>\n",
       "      <th>75%</th>\n",
       "      <td>4.266539e+07</td>\n",
       "      <td>4.000000e+00</td>\n",
       "      <td>1.125000e+03</td>\n",
       "    </tr>\n",
       "    <tr>\n",
       "      <th>max</th>\n",
       "      <td>5.064875e+07</td>\n",
       "      <td>3.650000e+02</td>\n",
       "      <td>1.000000e+04</td>\n",
       "    </tr>\n",
       "  </tbody>\n",
       "</table>\n",
       "</div>"
      ],
      "text/plain": [
       "         listing_id  minimum_nights  maximum_nights\n",
       "count  1.981222e+06    1.981197e+06    1.981197e+06\n",
       "mean   2.947478e+07    5.459868e+00    8.606587e+02\n",
       "std    1.442925e+07    1.708297e+01    4.628115e+02\n",
       "min    4.815400e+04    1.000000e+00    1.000000e+00\n",
       "25%    1.808551e+07    2.000000e+00    3.650000e+02\n",
       "50%    2.988804e+07    2.000000e+00    1.125000e+03\n",
       "75%    4.266539e+07    4.000000e+00    1.125000e+03\n",
       "max    5.064875e+07    3.650000e+02    1.000000e+04"
      ]
     },
     "execution_count": 11,
     "metadata": {},
     "output_type": "execute_result"
    }
   ],
   "source": [
    "# Note: this function only takes numerical variables\n",
    "calendar.describe()"
   ]
  },
  {
   "cell_type": "code",
   "execution_count": 12,
   "id": "1c793bdf",
   "metadata": {},
   "outputs": [
    {
     "data": {
      "text/plain": [
       "Index([], dtype='object')"
      ]
     },
     "execution_count": 12,
     "metadata": {},
     "output_type": "execute_result"
    }
   ],
   "source": [
    "calendar.columns[calendar.isnull().mean() > 0.05]"
   ]
  },
  {
   "cell_type": "markdown",
   "id": "c7faf984",
   "metadata": {},
   "source": [
    "It is shown that the % of NaN values is less than the 5% of the total data available, so I proceed to drop the NaN values of this dataset."
   ]
  },
  {
   "cell_type": "code",
   "execution_count": 13,
   "id": "78384846",
   "metadata": {},
   "outputs": [
    {
     "name": "stdout",
     "output_type": "stream",
     "text": [
      "The new dataframe has 1980083 rows and 7 columns.\n"
     ]
    }
   ],
   "source": [
    "calendar = calendar.dropna()\n",
    "print(\"The new dataframe has \" + str(calendar.shape[0]) + \" rows and \" + str(calendar.shape[1]) + \" columns.\")"
   ]
  },
  {
   "cell_type": "code",
   "execution_count": 14,
   "id": "3ae3e79d",
   "metadata": {},
   "outputs": [
    {
     "name": "stdout",
     "output_type": "stream",
     "text": [
      "Dates are between 2021-06-27 and 2022-06-28.\n"
     ]
    }
   ],
   "source": [
    "# Knowing the data period of time:\n",
    "print(\"Dates are between \" + min(calendar[\"date\"]) + \" and \" + max(calendar[\"date\"]) + \".\")"
   ]
  },
  {
   "cell_type": "markdown",
   "id": "a59c53c1",
   "metadata": {},
   "source": [
    "### Exploring 'listings' dataset "
   ]
  },
  {
   "cell_type": "code",
   "execution_count": 15,
   "id": "08d4f453",
   "metadata": {},
   "outputs": [
    {
     "data": {
      "text/html": [
       "<div>\n",
       "<style scoped>\n",
       "    .dataframe tbody tr th:only-of-type {\n",
       "        vertical-align: middle;\n",
       "    }\n",
       "\n",
       "    .dataframe tbody tr th {\n",
       "        vertical-align: top;\n",
       "    }\n",
       "\n",
       "    .dataframe thead th {\n",
       "        text-align: right;\n",
       "    }\n",
       "</style>\n",
       "<table border=\"1\" class=\"dataframe\">\n",
       "  <thead>\n",
       "    <tr style=\"text-align: right;\">\n",
       "      <th></th>\n",
       "      <th>id</th>\n",
       "      <th>listing_url</th>\n",
       "      <th>scrape_id</th>\n",
       "      <th>last_scraped</th>\n",
       "      <th>name</th>\n",
       "      <th>description</th>\n",
       "      <th>neighborhood_overview</th>\n",
       "      <th>picture_url</th>\n",
       "      <th>host_id</th>\n",
       "      <th>host_url</th>\n",
       "      <th>...</th>\n",
       "      <th>review_scores_communication</th>\n",
       "      <th>review_scores_location</th>\n",
       "      <th>review_scores_value</th>\n",
       "      <th>license</th>\n",
       "      <th>instant_bookable</th>\n",
       "      <th>calculated_host_listings_count</th>\n",
       "      <th>calculated_host_listings_count_entire_homes</th>\n",
       "      <th>calculated_host_listings_count_private_rooms</th>\n",
       "      <th>calculated_host_listings_count_shared_rooms</th>\n",
       "      <th>reviews_per_month</th>\n",
       "    </tr>\n",
       "  </thead>\n",
       "  <tbody>\n",
       "    <tr>\n",
       "      <th>0</th>\n",
       "      <td>48154</td>\n",
       "      <td>https://www.airbnb.com/rooms/48154</td>\n",
       "      <td>20211218004345</td>\n",
       "      <td>2021-12-18</td>\n",
       "      <td>beautiful apartment wifi</td>\n",
       "      <td>&lt;b&gt;The space&lt;/b&gt;&lt;br /&gt;Hello everybody and than...</td>\n",
       "      <td>NaN</td>\n",
       "      <td>https://a0.muscache.com/pictures/1109085/9c0d4...</td>\n",
       "      <td>219476</td>\n",
       "      <td>https://www.airbnb.com/users/show/219476</td>\n",
       "      <td>...</td>\n",
       "      <td>4.72</td>\n",
       "      <td>4.44</td>\n",
       "      <td>4.52</td>\n",
       "      <td>VT-41540-V</td>\n",
       "      <td>f</td>\n",
       "      <td>2</td>\n",
       "      <td>2</td>\n",
       "      <td>0</td>\n",
       "      <td>0</td>\n",
       "      <td>0.84</td>\n",
       "    </tr>\n",
       "    <tr>\n",
       "      <th>1</th>\n",
       "      <td>55692</td>\n",
       "      <td>https://www.airbnb.com/rooms/55692</td>\n",
       "      <td>20211218004345</td>\n",
       "      <td>2021-12-18</td>\n",
       "      <td>Delight in city center</td>\n",
       "      <td>A great place to stay and visit Valencia.&lt;br /...</td>\n",
       "      <td>NaN</td>\n",
       "      <td>https://a0.muscache.com/pictures/329316/a5d6a7...</td>\n",
       "      <td>120649</td>\n",
       "      <td>https://www.airbnb.com/users/show/120649</td>\n",
       "      <td>...</td>\n",
       "      <td>5.00</td>\n",
       "      <td>5.00</td>\n",
       "      <td>5.00</td>\n",
       "      <td>NaN</td>\n",
       "      <td>f</td>\n",
       "      <td>1</td>\n",
       "      <td>1</td>\n",
       "      <td>0</td>\n",
       "      <td>0</td>\n",
       "      <td>0.01</td>\n",
       "    </tr>\n",
       "    <tr>\n",
       "      <th>2</th>\n",
       "      <td>95393</td>\n",
       "      <td>https://www.airbnb.com/rooms/95393</td>\n",
       "      <td>20211218004345</td>\n",
       "      <td>2021-12-18</td>\n",
       "      <td>Modern and bright Duplex 3 Bedrooms Center Wi-Fi</td>\n",
       "      <td>This is \"Edificio Palomar Apartments\", I will ...</td>\n",
       "      <td>It is just 10 min walking distance to the Cath...</td>\n",
       "      <td>https://a0.muscache.com/pictures/931683/64aebc...</td>\n",
       "      <td>508042</td>\n",
       "      <td>https://www.airbnb.com/users/show/508042</td>\n",
       "      <td>...</td>\n",
       "      <td>4.75</td>\n",
       "      <td>4.75</td>\n",
       "      <td>4.67</td>\n",
       "      <td>31815</td>\n",
       "      <td>f</td>\n",
       "      <td>6</td>\n",
       "      <td>6</td>\n",
       "      <td>0</td>\n",
       "      <td>0</td>\n",
       "      <td>0.80</td>\n",
       "    </tr>\n",
       "    <tr>\n",
       "      <th>3</th>\n",
       "      <td>100347</td>\n",
       "      <td>https://www.airbnb.com/rooms/100347</td>\n",
       "      <td>20211218004345</td>\n",
       "      <td>2021-12-18</td>\n",
       "      <td>3BDR full Home at Sorolla station and Metro Jesús</td>\n",
       "      <td>Te va a encantar mi espacio por la ubicación y...</td>\n",
       "      <td>Barrio de Jesús, cercano al centro, zona conso...</td>\n",
       "      <td>https://a0.muscache.com/pictures/b0bb18e8-1f24...</td>\n",
       "      <td>1451371</td>\n",
       "      <td>https://www.airbnb.com/users/show/1451371</td>\n",
       "      <td>...</td>\n",
       "      <td>4.89</td>\n",
       "      <td>4.80</td>\n",
       "      <td>4.65</td>\n",
       "      <td>NaN</td>\n",
       "      <td>f</td>\n",
       "      <td>1</td>\n",
       "      <td>1</td>\n",
       "      <td>0</td>\n",
       "      <td>0</td>\n",
       "      <td>2.71</td>\n",
       "    </tr>\n",
       "    <tr>\n",
       "      <th>4</th>\n",
       "      <td>102524</td>\n",
       "      <td>https://www.airbnb.com/rooms/102524</td>\n",
       "      <td>20211218004345</td>\n",
       "      <td>2021-12-18</td>\n",
       "      <td>EXCLUSIVE VILLA WITH POOL &amp; 5 SUITES ON THE BEACH</td>\n",
       "      <td>DO NOT PARTY OR STAG/HEN PARTIES! THE RESERVAT...</td>\n",
       "      <td>Best restaurantes bars and clubs and chill out...</td>\n",
       "      <td>https://a0.muscache.com/pictures/d2019707-1596...</td>\n",
       "      <td>535881</td>\n",
       "      <td>https://www.airbnb.com/users/show/535881</td>\n",
       "      <td>...</td>\n",
       "      <td>4.61</td>\n",
       "      <td>4.78</td>\n",
       "      <td>4.36</td>\n",
       "      <td>VT-36438-V</td>\n",
       "      <td>f</td>\n",
       "      <td>7</td>\n",
       "      <td>6</td>\n",
       "      <td>1</td>\n",
       "      <td>0</td>\n",
       "      <td>1.19</td>\n",
       "    </tr>\n",
       "  </tbody>\n",
       "</table>\n",
       "<p>5 rows × 74 columns</p>\n",
       "</div>"
      ],
      "text/plain": [
       "       id                          listing_url       scrape_id last_scraped  \\\n",
       "0   48154   https://www.airbnb.com/rooms/48154  20211218004345   2021-12-18   \n",
       "1   55692   https://www.airbnb.com/rooms/55692  20211218004345   2021-12-18   \n",
       "2   95393   https://www.airbnb.com/rooms/95393  20211218004345   2021-12-18   \n",
       "3  100347  https://www.airbnb.com/rooms/100347  20211218004345   2021-12-18   \n",
       "4  102524  https://www.airbnb.com/rooms/102524  20211218004345   2021-12-18   \n",
       "\n",
       "                                                name  \\\n",
       "0                           beautiful apartment wifi   \n",
       "1                             Delight in city center   \n",
       "2   Modern and bright Duplex 3 Bedrooms Center Wi-Fi   \n",
       "3  3BDR full Home at Sorolla station and Metro Jesús   \n",
       "4  EXCLUSIVE VILLA WITH POOL & 5 SUITES ON THE BEACH   \n",
       "\n",
       "                                         description  \\\n",
       "0  <b>The space</b><br />Hello everybody and than...   \n",
       "1  A great place to stay and visit Valencia.<br /...   \n",
       "2  This is \"Edificio Palomar Apartments\", I will ...   \n",
       "3  Te va a encantar mi espacio por la ubicación y...   \n",
       "4  DO NOT PARTY OR STAG/HEN PARTIES! THE RESERVAT...   \n",
       "\n",
       "                               neighborhood_overview  \\\n",
       "0                                                NaN   \n",
       "1                                                NaN   \n",
       "2  It is just 10 min walking distance to the Cath...   \n",
       "3  Barrio de Jesús, cercano al centro, zona conso...   \n",
       "4  Best restaurantes bars and clubs and chill out...   \n",
       "\n",
       "                                         picture_url  host_id  \\\n",
       "0  https://a0.muscache.com/pictures/1109085/9c0d4...   219476   \n",
       "1  https://a0.muscache.com/pictures/329316/a5d6a7...   120649   \n",
       "2  https://a0.muscache.com/pictures/931683/64aebc...   508042   \n",
       "3  https://a0.muscache.com/pictures/b0bb18e8-1f24...  1451371   \n",
       "4  https://a0.muscache.com/pictures/d2019707-1596...   535881   \n",
       "\n",
       "                                    host_url  ... review_scores_communication  \\\n",
       "0   https://www.airbnb.com/users/show/219476  ...                        4.72   \n",
       "1   https://www.airbnb.com/users/show/120649  ...                        5.00   \n",
       "2   https://www.airbnb.com/users/show/508042  ...                        4.75   \n",
       "3  https://www.airbnb.com/users/show/1451371  ...                        4.89   \n",
       "4   https://www.airbnb.com/users/show/535881  ...                        4.61   \n",
       "\n",
       "  review_scores_location review_scores_value     license instant_bookable  \\\n",
       "0                   4.44                4.52  VT-41540-V                f   \n",
       "1                   5.00                5.00         NaN                f   \n",
       "2                   4.75                4.67       31815                f   \n",
       "3                   4.80                4.65         NaN                f   \n",
       "4                   4.78                4.36  VT-36438-V                f   \n",
       "\n",
       "  calculated_host_listings_count calculated_host_listings_count_entire_homes  \\\n",
       "0                              2                                           2   \n",
       "1                              1                                           1   \n",
       "2                              6                                           6   \n",
       "3                              1                                           1   \n",
       "4                              7                                           6   \n",
       "\n",
       "  calculated_host_listings_count_private_rooms  \\\n",
       "0                                            0   \n",
       "1                                            0   \n",
       "2                                            0   \n",
       "3                                            0   \n",
       "4                                            1   \n",
       "\n",
       "  calculated_host_listings_count_shared_rooms reviews_per_month  \n",
       "0                                           0              0.84  \n",
       "1                                           0              0.01  \n",
       "2                                           0              0.80  \n",
       "3                                           0              2.71  \n",
       "4                                           0              1.19  \n",
       "\n",
       "[5 rows x 74 columns]"
      ]
     },
     "execution_count": 15,
     "metadata": {},
     "output_type": "execute_result"
    }
   ],
   "source": [
    "listings.head()"
   ]
  },
  {
   "cell_type": "code",
   "execution_count": 16,
   "id": "32170245",
   "metadata": {},
   "outputs": [
    {
     "data": {
      "text/plain": [
       "Index(['id', 'listing_url', 'scrape_id', 'last_scraped', 'name', 'description',\n",
       "       'neighborhood_overview', 'picture_url', 'host_id', 'host_url',\n",
       "       'host_name', 'host_since', 'host_location', 'host_about',\n",
       "       'host_response_time', 'host_response_rate', 'host_acceptance_rate',\n",
       "       'host_is_superhost', 'host_thumbnail_url', 'host_picture_url',\n",
       "       'host_neighbourhood', 'host_listings_count',\n",
       "       'host_total_listings_count', 'host_verifications',\n",
       "       'host_has_profile_pic', 'host_identity_verified', 'neighbourhood',\n",
       "       'neighbourhood_cleansed', 'neighbourhood_group_cleansed', 'latitude',\n",
       "       'longitude', 'property_type', 'room_type', 'accommodates', 'bathrooms',\n",
       "       'bathrooms_text', 'bedrooms', 'beds', 'amenities', 'price',\n",
       "       'minimum_nights', 'maximum_nights', 'minimum_minimum_nights',\n",
       "       'maximum_minimum_nights', 'minimum_maximum_nights',\n",
       "       'maximum_maximum_nights', 'minimum_nights_avg_ntm',\n",
       "       'maximum_nights_avg_ntm', 'calendar_updated', 'has_availability',\n",
       "       'availability_30', 'availability_60', 'availability_90',\n",
       "       'availability_365', 'calendar_last_scraped', 'number_of_reviews',\n",
       "       'number_of_reviews_ltm', 'number_of_reviews_l30d', 'first_review',\n",
       "       'last_review', 'review_scores_rating', 'review_scores_accuracy',\n",
       "       'review_scores_cleanliness', 'review_scores_checkin',\n",
       "       'review_scores_communication', 'review_scores_location',\n",
       "       'review_scores_value', 'license', 'instant_bookable',\n",
       "       'calculated_host_listings_count',\n",
       "       'calculated_host_listings_count_entire_homes',\n",
       "       'calculated_host_listings_count_private_rooms',\n",
       "       'calculated_host_listings_count_shared_rooms', 'reviews_per_month'],\n",
       "      dtype='object')"
      ]
     },
     "execution_count": 16,
     "metadata": {},
     "output_type": "execute_result"
    }
   ],
   "source": [
    "listings.columns"
   ]
  },
  {
   "cell_type": "code",
   "execution_count": 17,
   "id": "c476db8c",
   "metadata": {},
   "outputs": [
    {
     "name": "stdout",
     "output_type": "stream",
     "text": [
      "(5546, 74)\n",
      "id                                                0\n",
      "listing_url                                       0\n",
      "scrape_id                                         0\n",
      "last_scraped                                      0\n",
      "name                                              0\n",
      "                                               ... \n",
      "calculated_host_listings_count                    0\n",
      "calculated_host_listings_count_entire_homes       0\n",
      "calculated_host_listings_count_private_rooms      0\n",
      "calculated_host_listings_count_shared_rooms       0\n",
      "reviews_per_month                               727\n",
      "Length: 74, dtype: int64\n"
     ]
    }
   ],
   "source": [
    "# Finding NaN values for listings df\n",
    "print(listings.shape)\n",
    "print(listings.isnull().sum())"
   ]
  },
  {
   "cell_type": "code",
   "execution_count": 18,
   "id": "d23f2f77",
   "metadata": {},
   "outputs": [
    {
     "data": {
      "text/plain": [
       "Index(['host_neighbourhood', 'bathrooms', 'calendar_updated', 'license'], dtype='object')"
      ]
     },
     "execution_count": 18,
     "metadata": {},
     "output_type": "execute_result"
    }
   ],
   "source": [
    "listings.columns[listings.isnull().mean() > 0.5]"
   ]
  },
  {
   "cell_type": "markdown",
   "id": "24b6e880",
   "metadata": {},
   "source": [
    "The columns 'host_neighbourhood', 'bathrooms', 'calendar_updated' and 'license' have more than 50% of NaN values. We need to keep exploring this."
   ]
  },
  {
   "cell_type": "code",
   "execution_count": 19,
   "id": "52e9957d",
   "metadata": {
    "scrolled": true
   },
   "outputs": [],
   "source": [
    "neighbourhood_counts = listings[\"neighbourhood_group_cleansed\"].value_counts().reset_index()"
   ]
  },
  {
   "cell_type": "code",
   "execution_count": 20,
   "id": "7218a31e",
   "metadata": {},
   "outputs": [
    {
     "data": {
      "image/png": "[encoded data removed]",
      "text/plain": [
       "<Figure size 864x576 with 1 Axes>"
      ]
     },
     "metadata": {},
     "output_type": "display_data"
    }
   ],
   "source": [
    "sns.set_theme(style=\"whitegrid\")\n",
    "sns.set(rc={'figure.figsize':(12, 8)})\n",
    "ax = sns.barplot(x= \"neighbourhood_group_cleansed\", y = \"index\", data = neighbourhood_counts, palette=\"Blues_d\").set(title='Total Nº of bookings by neighbourhood')\n",
    "plt.xlabel('Nº of bookings')\n",
    "plt.ylabel('Neighbourhooods')\n",
    "plt.show()"
   ]
  },
  {
   "cell_type": "markdown",
   "id": "4accc39e",
   "metadata": {},
   "source": [
    "Ciutat Vella and Poblats Marítims are the most requested neighbourhoods by the users for this period of time."
   ]
  },
  {
   "cell_type": "markdown",
   "id": "925e61e1",
   "metadata": {},
   "source": [
    "# <font color='#A533FF'>Module 3: Data Preparation</font>"
   ]
  },
  {
   "cell_type": "markdown",
   "id": "92993ed3",
   "metadata": {},
   "source": [
    "### 1. What are the busiest times of the year to rent a room in Valencia? By how much do prices spike?"
   ]
  },
  {
   "cell_type": "markdown",
   "id": "2c048307",
   "metadata": {},
   "source": [
    "To represent availability through time we need the 'available' column of the dataset that is True ('t') and then plot it with the dates."
   ]
  },
  {
   "cell_type": "code",
   "execution_count": 21,
   "id": "2f20d8c8",
   "metadata": {},
   "outputs": [
    {
     "data": {
      "text/html": [
       "<div>\n",
       "<style scoped>\n",
       "    .dataframe tbody tr th:only-of-type {\n",
       "        vertical-align: middle;\n",
       "    }\n",
       "\n",
       "    .dataframe tbody tr th {\n",
       "        vertical-align: top;\n",
       "    }\n",
       "\n",
       "    .dataframe thead th {\n",
       "        text-align: right;\n",
       "    }\n",
       "</style>\n",
       "<table border=\"1\" class=\"dataframe\">\n",
       "  <thead>\n",
       "    <tr style=\"text-align: right;\">\n",
       "      <th></th>\n",
       "      <th>listing_id</th>\n",
       "      <th>date</th>\n",
       "      <th>available</th>\n",
       "      <th>price</th>\n",
       "      <th>adjusted_price</th>\n",
       "      <th>minimum_nights</th>\n",
       "      <th>maximum_nights</th>\n",
       "    </tr>\n",
       "  </thead>\n",
       "  <tbody>\n",
       "    <tr>\n",
       "      <th>0</th>\n",
       "      <td>193326</td>\n",
       "      <td>2021-06-28</td>\n",
       "      <td>t</td>\n",
       "      <td>$45.00</td>\n",
       "      <td>$45.00</td>\n",
       "      <td>1.0</td>\n",
       "      <td>1125.0</td>\n",
       "    </tr>\n",
       "    <tr>\n",
       "      <th>1</th>\n",
       "      <td>48154</td>\n",
       "      <td>2021-06-28</td>\n",
       "      <td>f</td>\n",
       "      <td>$45.00</td>\n",
       "      <td>$45.00</td>\n",
       "      <td>3.0</td>\n",
       "      <td>25.0</td>\n",
       "    </tr>\n",
       "    <tr>\n",
       "      <th>2</th>\n",
       "      <td>48154</td>\n",
       "      <td>2021-06-29</td>\n",
       "      <td>f</td>\n",
       "      <td>$45.00</td>\n",
       "      <td>$45.00</td>\n",
       "      <td>3.0</td>\n",
       "      <td>25.0</td>\n",
       "    </tr>\n",
       "    <tr>\n",
       "      <th>3</th>\n",
       "      <td>48154</td>\n",
       "      <td>2021-06-30</td>\n",
       "      <td>f</td>\n",
       "      <td>$45.00</td>\n",
       "      <td>$45.00</td>\n",
       "      <td>3.0</td>\n",
       "      <td>25.0</td>\n",
       "    </tr>\n",
       "    <tr>\n",
       "      <th>4</th>\n",
       "      <td>48154</td>\n",
       "      <td>2021-07-01</td>\n",
       "      <td>f</td>\n",
       "      <td>$45.00</td>\n",
       "      <td>$45.00</td>\n",
       "      <td>3.0</td>\n",
       "      <td>25.0</td>\n",
       "    </tr>\n",
       "  </tbody>\n",
       "</table>\n",
       "</div>"
      ],
      "text/plain": [
       "   listing_id        date available   price adjusted_price  minimum_nights  \\\n",
       "0      193326  2021-06-28         t  $45.00         $45.00             1.0   \n",
       "1       48154  2021-06-28         f  $45.00         $45.00             3.0   \n",
       "2       48154  2021-06-29         f  $45.00         $45.00             3.0   \n",
       "3       48154  2021-06-30         f  $45.00         $45.00             3.0   \n",
       "4       48154  2021-07-01         f  $45.00         $45.00             3.0   \n",
       "\n",
       "   maximum_nights  \n",
       "0          1125.0  \n",
       "1            25.0  \n",
       "2            25.0  \n",
       "3            25.0  \n",
       "4            25.0  "
      ]
     },
     "execution_count": 21,
     "metadata": {},
     "output_type": "execute_result"
    }
   ],
   "source": [
    "calendar.head()"
   ]
  },
  {
   "cell_type": "code",
   "execution_count": 22,
   "id": "b52562e8",
   "metadata": {},
   "outputs": [
    {
     "data": {
      "text/plain": [
       "<AxesSubplot:title={'center':'Valencia Airbnb availability rate by month'}, xlabel='month'>"
      ]
     },
     "execution_count": 22,
     "metadata": {},
     "output_type": "execute_result"
    },
    {
     "data": {
      "image/png": "[encoded data removed]",
      "text/plain": [
       "<Figure size 864x576 with 1 Axes>"
      ]
     },
     "metadata": {},
     "output_type": "display_data"
    }
   ],
   "source": [
    "calendar['available'] = calendar['available'] == 't'\n",
    "calendar['month'] = pd.DatetimeIndex(calendar['date']).month\n",
    "calendar.groupby('month')['available'].mean().plot(title = 'Valencia Airbnb availability rate by month')"
   ]
  },
  {
   "cell_type": "markdown",
   "id": "f9d2aff7",
   "metadata": {},
   "source": [
    "Taking into account that the time period of our data is from 2021-12-18 to 2022-12-17, we observe that [...]"
   ]
  },
  {
   "cell_type": "code",
   "execution_count": 23,
   "id": "b38f35d4",
   "metadata": {},
   "outputs": [
    {
     "data": {
      "text/plain": [
       "Text(0, 0.5, 'price')"
      ]
     },
     "execution_count": 23,
     "metadata": {},
     "output_type": "execute_result"
    },
    {
     "data": {
      "image/png": "[encoded data removed]",
      "text/plain": [
       "<Figure size 864x576 with 1 Axes>"
      ]
     },
     "metadata": {},
     "output_type": "display_data"
    }
   ],
   "source": [
    "calendar['price'] = calendar['price'].replace('[\\$,]', '', regex=True).astype(float)\n",
    "calendar['month'] = pd.DatetimeIndex(calendar['date']).month\n",
    "\n",
    "ax2 = calendar.groupby('month')['price'].mean().plot(title='Valencia Airbnb price by month')\n",
    "ax2.set_ylabel(\"price\")"
   ]
  },
  {
   "cell_type": "markdown",
   "id": "82ab656a",
   "metadata": {},
   "source": [
    "Summer months (July and August) are the most expensive of the year, over $138/ night. A peak is observed in March, month when Fallas are celebrated and also there is a peak in November."
   ]
  },
  {
   "cell_type": "markdown",
   "id": "07ada353",
   "metadata": {},
   "source": [
    "### 2.  What type of airbnb is the most booked in the city? Where are they in the city?"
   ]
  },
  {
   "cell_type": "code",
   "execution_count": null,
   "id": "6fda058c",
   "metadata": {},
   "outputs": [],
   "source": []
  },
  {
   "cell_type": "markdown",
   "id": "5f49666b",
   "metadata": {},
   "source": [
    "# <font color='#A533FF'>Module 4: Data Modelling</font>"
   ]
  },
  {
   "cell_type": "markdown",
   "id": "bf4a7c2a",
   "metadata": {},
   "source": [
    "### Question 3. How well can we predict the Airbnb price? What aspects correlate well to the price?"
   ]
  },
  {
   "cell_type": "markdown",
   "id": "789b8045",
   "metadata": {},
   "source": [
    "Multiple Linear Regression:\n",
    "'review_scores_rating', 'review_scores_accuracy','review_scores_cleanliness', 'review_scores_checkin',\n",
    "'review_scores_communication', 'review_scores_location','review_scores_value', 'accommodates', 'bedrooms', 'beds', 'price','minimum_nights', 'maximum_nights', 'minimum_minimum_nights', 'maximum_minimum_nights', 'minimum_maximum_nights', 'maximum_maximum_nights', 'minimum_nights_avg_ntm', 'maximum_nights_avg_ntm', 'availability_365', 'number_of_reviews'\n",
    "    \n",
    "    \n",
    "'instant_bookable', 'host_is_superhost', 'host_has_profile_pic', 'host_identity_verified' -> boolean -> convertir a dos columnas\n",
    "\n",
    "'host_response_rate', 'host_acceptance_rate' -> en porcentajes + nan -> convertir a int y mirar % NaN\n",
    "\n",
    "'bathrooms_text' -> quedarse solo con los numeros\n",
    "\n",
    "'property_type', 'room_type' -> texto pero estaria guay sacar datos"
   ]
  },
  {
   "cell_type": "code",
   "execution_count": 25,
   "id": "ce2af25b",
   "metadata": {},
   "outputs": [
    {
     "data": {
      "text/plain": [
       "0                Entire rental unit\n",
       "1                Entire rental unit\n",
       "2                Entire rental unit\n",
       "3                Entire rental unit\n",
       "4                      Entire villa\n",
       "                   ...             \n",
       "5541                   Entire cabin\n",
       "5542                    Entire loft\n",
       "5543     Entire condominium (condo)\n",
       "5544                   Entire cabin\n",
       "5545    Private room in rental unit\n",
       "Name: property_type, Length: 5546, dtype: object"
      ]
     },
     "execution_count": 25,
     "metadata": {},
     "output_type": "execute_result"
    }
   ],
   "source": [
    "listings.property_type"
   ]
  },
  {
   "cell_type": "code",
   "execution_count": null,
   "id": "d27014ff",
   "metadata": {},
   "outputs": [],
   "source": []
  },
  {
   "cell_type": "code",
   "execution_count": null,
   "id": "4f952666",
   "metadata": {},
   "outputs": [],
   "source": []
  },
  {
   "cell_type": "markdown",
   "id": "4da4d5ac",
   "metadata": {},
   "source": [
    "# <font color='#A533FF'>Module 5: Result Evaluation</font>"
   ]
  },
  {
   "cell_type": "markdown",
   "id": "685f1f81",
   "metadata": {},
   "source": [
    "# <font color='#A533FF'>Module 6: Deployment </font>"
   ]
  },
  {
   "cell_type": "markdown",
   "id": "525e0017",
   "metadata": {},
   "source": [
    "This section is available on the following sites:\n",
    "\n",
    "[...]"
   ]
  }
 ],
 "metadata": {
  "kernelspec": {
   "display_name": "Python 3 (ipykernel)",
   "language": "python",
   "name": "python3"
  },
  "language_info": {
   "codemirror_mode": {
    "name": "ipython",
    "version": 3
   },
   "file_extension": ".py",
   "mimetype": "text/x-python",
   "name": "python",
   "nbconvert_exporter": "python",
   "pygments_lexer": "ipython3",
   "version": "3.8.2"
  }
 },
 "nbformat": 4,
 "nbformat_minor": 5
}
