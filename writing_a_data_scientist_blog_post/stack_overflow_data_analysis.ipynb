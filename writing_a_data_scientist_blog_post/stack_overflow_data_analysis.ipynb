{
 "cells": [
  {
   "cell_type": "markdown",
   "id": "ff0bb4d0",
   "metadata": {},
   "source": [
    "# Public Stack Overflow Developer Survey Analysys\n",
    "\n",
    "2023-07\n",
    "*Marta Ballester*"
   ]
  },
  {
   "attachments": {},
   "cell_type": "markdown",
   "id": "4bdb4a94",
   "metadata": {},
   "source": [
    "### <font color='#A533FF'>Module 1: Business Understanding</font>"
   ]
  },
  {
   "attachments": {},
   "cell_type": "markdown",
   "id": "783543e1",
   "metadata": {},
   "source": [
    "AirBnB is an online-platform dedicated to the offer of accommodation to individuals and tourists (vacation rentals) through which hosts can advertise and contract the rental of their properties with their guests. For this project we will explore and analyze the AirBnB data of Valencia (Spain), a city on the shores of the Mediterranean Sea.\n",
    "\n",
    "\n",
    "#### Project Structure:\n",
    "\n",
    "The project follow the CRISP-DM Process (Cross Industry Process for Data Mining):\n",
    "\n",
    "1. Business Understanding.\n",
    "2. Data Understanding.\n",
    "3. Data Preparation.\n",
    "4. Data Modelling.\n",
    "5. Result Evaluation.\n",
    "6. Deployment (available on GitHub repository and Medium Blog Post only).\n",
    "\n",
    "\n",
    "\n",
    "#### Questions to be answered:\n",
    "\n",
    "- A.  What languages were most popular each year? \n",
    "\n",
    "- B. Changes over time.\n",
    "\n",
    "- C. group by field of study (first check value_counts just in case) and analyze how many people remain in the same field or change. And in the last case, what are the most common field changes by year? desde la pandemia! teniendo en cuenta que se valora mas el teletrabajo ahora."
   ]
  },
  {
   "attachments": {},
   "cell_type": "markdown",
   "id": "a15eba9e",
   "metadata": {},
   "source": [
    "### <font color='#A533FF'>Module 2: Data Understanding</font>"
   ]
  },
  {
   "attachments": {},
   "cell_type": "markdown",
   "id": "8b4e465c",
   "metadata": {},
   "source": [
    "The datasets chosen from Stack Overflow survey results are available on https://insights.stackoverflow.com/survey and aim to answer the questions above. The selected time window for the data analysis was 5 years, from 2019 to 2023. The datasets for each year have the following structure:\n",
    "\n",
    "* `survey_results_public.csv`: CSV file with main survey results, one respondent per row and one column per answer\n",
    "* `survey_results_schema.csv`: CSV file with survey schema, i.e., the questions that correspond to each column name"
   ]
  },
  {
   "attachments": {},
   "cell_type": "markdown",
   "id": "3aadbdb1",
   "metadata": {},
   "source": [
    "### Importing libraries and loading the data"
   ]
  },
  {
   "cell_type": "code",
   "execution_count": 36,
   "id": "48474978",
   "metadata": {},
   "outputs": [],
   "source": [
    "import pandas as pd\n",
    "import zipfile\n",
    "# from sklearn.linear_model import LinearRegression\n",
    "# from sklearn.model_selection import train_test_split\n",
    "# from sklearn.metrics import r2_score, mean_squared_error\n",
    "# from sklearn.ensemble import RandomForestRegressor\n",
    "# from sklearn.datasets import make_regression"
   ]
  },
  {
   "cell_type": "code",
   "execution_count": 33,
   "id": "96b288cf",
   "metadata": {},
   "outputs": [],
   "source": [
    "def unzip_and_read_data(data_year, dataset_type):\n",
    "    \n",
    "    with zipfile.ZipFile(f'./data/stack-overflow-developer-survey-{data_year}.zip', 'r') as zip_ref:\n",
    "        zip_ref.extractall(f'./data/{data_year}')\n",
    "    globals()[\"survey_results_{dataset_type}_\" + str(data_year)] = pd.read_csv(f'./data/{data_year}/survey_results_{dataset_type}.csv')\n",
    "\n",
    "    return globals()[\"survey_results_{dataset_type}_\" + str(data_year)]"
   ]
  },
  {
   "attachments": {},
   "cell_type": "markdown",
   "id": "647616e6",
   "metadata": {},
   "source": [
    "### Dataset exploration"
   ]
  },
  {
   "cell_type": "code",
   "execution_count": 61,
   "id": "4fd87ae6",
   "metadata": {},
   "outputs": [
    {
     "name": "stdout",
     "output_type": "stream",
     "text": [
      "(88883, 85)\n",
      "Index(['Respondent', 'MainBranch', 'Hobbyist', 'OpenSourcer', 'OpenSource',\n",
      "       'Employment', 'Country', 'Student', 'EdLevel', 'UndergradMajor',\n",
      "       'EduOther', 'OrgSize', 'DevType', 'YearsCode', 'Age1stCode',\n",
      "       'YearsCodePro', 'CareerSat', 'JobSat', 'MgrIdiot', 'MgrMoney',\n",
      "       'MgrWant', 'JobSeek', 'LastHireDate', 'LastInt', 'FizzBuzz',\n",
      "       'JobFactors', 'ResumeUpdate', 'CurrencySymbol', 'CurrencyDesc',\n",
      "       'CompTotal', 'CompFreq', 'ConvertedComp', 'WorkWeekHrs', 'WorkPlan',\n",
      "       'WorkChallenge', 'WorkRemote', 'WorkLoc', 'ImpSyn', 'CodeRev',\n",
      "       'CodeRevHrs', 'UnitTests', 'PurchaseHow', 'PurchaseWhat',\n",
      "       'LanguageWorkedWith', 'LanguageDesireNextYear', 'DatabaseWorkedWith',\n",
      "       'DatabaseDesireNextYear', 'PlatformWorkedWith',\n",
      "       'PlatformDesireNextYear', 'WebFrameWorkedWith',\n",
      "       'WebFrameDesireNextYear', 'MiscTechWorkedWith',\n",
      "       'MiscTechDesireNextYear', 'DevEnviron', 'OpSys', 'Containers',\n",
      "       'BlockchainOrg', 'BlockchainIs', 'BetterLife', 'ITperson', 'OffOn',\n",
      "       'SocialMedia', 'Extraversion', 'ScreenName', 'SOVisit1st',\n",
      "       'SOVisitFreq', 'SOVisitTo', 'SOFindAnswer', 'SOTimeSaved',\n",
      "       'SOHowMuchTime', 'SOAccount', 'SOPartFreq', 'SOJobs', 'EntTeams',\n",
      "       'SOComm', 'WelcomeChange', 'SONewContent', 'Age', 'Gender', 'Trans',\n",
      "       'Sexuality', 'Ethnicity', 'Dependents', 'SurveyLength', 'SurveyEase'],\n",
      "      dtype='object')\n",
      "Respondent                    0\n",
      "MainBranch                  552\n",
      "Hobbyist                      0\n",
      "OpenSourcer                   0\n",
      "OpenSource                 2041\n",
      "Employment                 1702\n",
      "Country                     132\n",
      "Student                    1869\n",
      "EdLevel                    2493\n",
      "UndergradMajor            13269\n",
      "EduOther                   4623\n",
      "OrgSize                   17092\n",
      "DevType                    7548\n",
      "YearsCode                   945\n",
      "Age1stCode                 1249\n",
      "YearsCodePro              14552\n",
      "CareerSat                 16036\n",
      "JobSat                    17895\n",
      "MgrIdiot                  27724\n",
      "MgrMoney                  27726\n",
      "MgrWant                   27651\n",
      "JobSeek                    8328\n",
      "LastHireDate               9029\n",
      "LastInt                   21728\n",
      "FizzBuzz                  17539\n",
      "JobFactors                 9512\n",
      "ResumeUpdate              11006\n",
      "CurrencySymbol            17491\n",
      "CurrencyDesc              17491\n",
      "CompTotal                 32938\n",
      "CompFreq                  25615\n",
      "ConvertedComp             33060\n",
      "WorkWeekHrs               24380\n",
      "WorkPlan                  19969\n",
      "WorkChallenge             20742\n",
      "WorkRemote                18599\n",
      "WorkLoc                   18828\n",
      "ImpSyn                    17104\n",
      "CodeRev                   18493\n",
      "CodeRevHrs                39093\n",
      "UnitTests                 26215\n",
      "PurchaseHow               27775\n",
      "PurchaseWhat              26854\n",
      "LanguageWorkedWith         1314\n",
      "LanguageDesireNextYear     4795\n",
      "DatabaseWorkedWith        12857\n",
      "DatabaseDesireNextYear    19736\n",
      "PlatformWorkedWith         8169\n",
      "PlatformDesireNextYear    11440\n",
      "WebFrameWorkedWith        23861\n",
      "WebFrameDesireNextYear    25939\n",
      "MiscTechWorkedWith        29297\n",
      "MiscTechDesireNextYear    24372\n",
      "DevEnviron                 1566\n",
      "OpSys                      1032\n",
      "Containers                 3517\n",
      "BlockchainOrg             40708\n",
      "BlockchainIs              28718\n",
      "BetterLife                 2614\n",
      "ITperson                   1742\n",
      "OffOn                      2220\n",
      "SocialMedia                4446\n",
      "Extraversion               1578\n",
      "ScreenName                 8397\n",
      "SOVisit1st                 5006\n",
      "SOVisitFreq                 620\n",
      "SOVisitTo                   797\n",
      "SOFindAnswer               1067\n",
      "SOTimeSaved                2539\n",
      "SOHowMuchTime             20505\n",
      "SOAccount                  1055\n",
      "SOPartFreq                14191\n",
      "SOJobs                      817\n",
      "EntTeams                   1042\n",
      "SOComm                      752\n",
      "WelcomeChange              3028\n",
      "SONewContent              19323\n",
      "Age                        9673\n",
      "Gender                     3477\n",
      "Trans                      5276\n",
      "Sexuality                 12736\n",
      "Ethnicity                 12215\n",
      "Dependents                 5824\n",
      "SurveyLength               1899\n",
      "SurveyEase                 1802\n",
      "dtype: int64\n"
     ]
    }
   ],
   "source": [
    "survey_public_2019 = pd.DataFrame(unzip_and_read_data(2019, 'public'))\n",
    "print(survey_public_2019.shape)\n",
    "print(survey_public_2019.columns)\n",
    "print(survey_public_2019.isna().sum())\n",
    "pd.options.display.max_rows = 5000"
   ]
  },
  {
   "cell_type": "code",
   "execution_count": 66,
   "id": "3d2d4b3b",
   "metadata": {},
   "outputs": [
    {
     "name": "stdout",
     "output_type": "stream",
     "text": [
      "{'BlockchainOrg', 'CodeRevHrs'}\n"
     ]
    }
   ],
   "source": [
    "# Finding columns with more than 40% of their values missing\n",
    "nan_75_public_2019 = set(survey_public_2019.columns[survey_public_2019.isnull().mean() > 0.4])\n",
    "print(nan_75_public_2019)"
   ]
  },
  {
   "cell_type": "code",
   "execution_count": null,
   "id": "64e82c10",
   "metadata": {},
   "outputs": [],
   "source": []
  },
  {
   "attachments": {},
   "cell_type": "markdown",
   "id": "925e61e1",
   "metadata": {},
   "source": [
    "### <font color='#A533FF'>Module 3: Data Preparation</font>"
   ]
  },
  {
   "attachments": {},
   "cell_type": "markdown",
   "id": "92993ed3",
   "metadata": {},
   "source": [
    "### 1. What are the busiest times of the year to rent a room in Valencia? By how much do prices spike?"
   ]
  },
  {
   "attachments": {},
   "cell_type": "markdown",
   "id": "07ada353",
   "metadata": {},
   "source": [
    "### 2.  What type of airbnb is the most booked in the city?"
   ]
  },
  {
   "attachments": {},
   "cell_type": "markdown",
   "id": "5f49666b",
   "metadata": {},
   "source": [
    "### <font color='#A533FF'>Module 4: Data Modelling</font>"
   ]
  },
  {
   "cell_type": "code",
   "execution_count": null,
   "id": "6fc47cb5",
   "metadata": {},
   "outputs": [],
   "source": []
  },
  {
   "attachments": {},
   "cell_type": "markdown",
   "id": "4da4d5ac",
   "metadata": {},
   "source": [
    "### <font color='#A533FF'>Module 5: Result Evaluation</font>"
   ]
  },
  {
   "attachments": {},
   "cell_type": "markdown",
   "id": "685f1f81",
   "metadata": {},
   "source": [
    "### <font color='#A533FF'>Module 6: Deployment </font>"
   ]
  },
  {
   "attachments": {},
   "cell_type": "markdown",
   "id": "525e0017",
   "metadata": {},
   "source": [
    "This section is available on the following sites:\n",
    "\n",
    "[...]"
   ]
  }
 ],
 "metadata": {
  "kernelspec": {
   "display_name": "Python 3 (ipykernel)",
   "language": "python",
   "name": "python3"
  },
  "language_info": {
   "codemirror_mode": {
    "name": "ipython",
    "version": 3
   },
   "file_extension": ".py",
   "mimetype": "text/x-python",
   "name": "python",
   "nbconvert_exporter": "python",
   "pygments_lexer": "ipython3",
   "version": "3.10.6"
  }
 },
 "nbformat": 4,
 "nbformat_minor": 5
}
